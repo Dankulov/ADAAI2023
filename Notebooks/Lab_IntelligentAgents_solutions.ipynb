{
 "cells": [
  {
   "cell_type": "markdown",
   "id": "99da522d",
   "metadata": {},
   "source": [
    "## Lesson: Intelligent Agents"
   ]
  },
  {
   "cell_type": "markdown",
   "id": "33336b7f",
   "metadata": {},
   "source": [
    "We will cover:\n",
    "1. PEAS for different agents\n",
    "2. Simple reflex agent\n",
    "3. Model-based reflex agent\n",
    "4. NetLogo - multiagents example"
   ]
  },
  {
   "cell_type": "markdown",
   "id": "49fe2b5f",
   "metadata": {},
   "source": [
    "### 1. PEAS excercise"
   ]
  },
  {
   "cell_type": "markdown",
   "id": "b43afb92",
   "metadata": {},
   "source": [
    "For each of the following agents, develop a PEAS description of the task environment:<br>\n",
    "a) Robot soccer player; <br>\n",
    "b) Internet book-shopping agent; <br>\n",
    "c) Part-picking robot; <br>\n",
    "d) Satellite image analysis system. <br> "
   ]
  },
  {
   "cell_type": "markdown",
   "id": "7631f92d",
   "metadata": {},
   "source": [
    "|Task||Performance Measure|Environment|Actuators|Sensors| \n",
    "| --- || --- | --- | --- | --- |\n",
    "|Robot soccer player|| | | | |\n",
    "|Internet book-shopping agent|| | | | |\n",
    "|Part-picking robot|| | | | |\n",
    "|Satellite image analysis system|| | | | |"
   ]
  },
  {
   "cell_type": "markdown",
   "id": "56816f9b",
   "metadata": {},
   "source": [
    "#### Solution"
   ]
  },
  {
   "cell_type": "markdown",
   "id": "bbfbf442",
   "metadata": {},
   "source": [
    "|Task || Performance Measure | Environment | Actuators | Sensors | \n",
    "|---||---|---|---|---|\n",
    "|Robot soccer player|| Score of the team or the competitor, winning game |Ball, team members, competitors, a sport ground | The robot devices, such as legs for running and kicking  | Video camera, communication links among team members, orientation sensors, touch sensors  |\n",
    "|Internet book-shopping agent|| Minimizing cost, information about interesting books | The Internet, browsers | Add a new order, retrieve existing order information, display information to user  | Web pages, buttons or hyperlinks clicked by users  |\n",
    "|Part-picking robot|| Percentage of parts in correct bins | Conveyor belt with parts, bins | Jointed arms and hand| Camera, joint angle sensors|\n",
    "|Satellite image analysis system || Correct image categorization | Downlink from orbiting satellite | Display categorization of scene | Color pixel arrays | "
   ]
  },
  {
   "cell_type": "markdown",
   "id": "6c08a3ed",
   "metadata": {},
   "source": [
    "### 2. Simple reflex agent: vacuum cleaning agent"
   ]
  },
  {
   "cell_type": "markdown",
   "id": "b7c900f0",
   "metadata": {},
   "source": [
    "2.1 Write PEAS for a simple reflex agent - vacuum cleaner that can only be in spots A and B, and clean these spots. "
   ]
  },
  {
   "cell_type": "markdown",
   "id": "c5807340",
   "metadata": {},
   "source": [
    "|Task || Performance Measure | Environment | Actuators | Sensors | \n",
    "|---||---|---|---|---|"
   ]
  },
  {
   "cell_type": "markdown",
   "id": "4f917f73",
   "metadata": {},
   "source": [
    "#### Solution"
   ]
  },
  {
   "cell_type": "markdown",
   "id": "b2a084b8",
   "metadata": {},
   "source": [
    "|Task || Performance Measure | Environment | Actuators | Sensors | \n",
    "|---||---|---|---|---|\n",
    "Vacuum cleaner|| cleanness, efficiency| spots A and B | move, suck | dirt detection sensor, location sensor|"
   ]
  },
  {
   "cell_type": "markdown",
   "id": "a59cae7a",
   "metadata": {},
   "source": [
    "2.2. Agent function of vaccum cleaner: if the location where the agent is is dirty - such, move to neighbouring location if the current location is clean. Write an agent program for this agent function. "
   ]
  },
  {
   "cell_type": "markdown",
   "id": "efe0a261",
   "metadata": {},
   "source": [
    "#### Solution"
   ]
  },
  {
   "cell_type": "markdown",
   "id": "79012078",
   "metadata": {},
   "source": [
    "**Agent program**"
   ]
  },
  {
   "cell_type": "markdown",
   "id": "60ceeeeb",
   "metadata": {},
   "source": [
    "What are the inputs for our agent? <br>\n",
    "Inputs: position, information if the current location has dirt or not.<br>\n",
    "position - the current location of vacuum cleaner agent<br>\n",
    "env - dictionary that contains information about the current state of the location<br>"
   ]
  },
  {
   "cell_type": "code",
   "execution_count": 1,
   "id": "14a5db1e",
   "metadata": {},
   "outputs": [],
   "source": [
    "def VC(position, env):\n",
    "    if env[position]==\"clean\":\n",
    "        if position==\"A\":\n",
    "            position=\"B\"\n",
    "        else:\n",
    "            position=\"A\"\n",
    "    else:\n",
    "        env[position]=\"clean\"\n",
    "    return position, env"
   ]
  },
  {
   "cell_type": "markdown",
   "id": "e3dc5167",
   "metadata": {},
   "source": [
    "**Enviroment function**"
   ]
  },
  {
   "cell_type": "markdown",
   "id": "9dbfebe8",
   "metadata": {},
   "source": [
    "We need to describe the enviroment. We have two locations $A$ and $B$. Each location can be in one of the two states: $clean$ and $dirty$. The location becomes $clean$ if vacuum cleaner agent is at that spot and it sucks in the dirt. Let us assume that spot simply becomes dirty if it was dirty in the last step. What will happend? "
   ]
  },
  {
   "cell_type": "markdown",
   "id": "00bcf16a",
   "metadata": {},
   "source": [
    "Enviroment change function."
   ]
  },
  {
   "cell_type": "code",
   "execution_count": 2,
   "id": "16f7772a",
   "metadata": {},
   "outputs": [],
   "source": [
    "def ENV(env):\n",
    "    for se in env.keys():\n",
    "        if env[se]==\"clean\":\n",
    "            env[se]=\"dirty\"\n",
    "    return env"
   ]
  },
  {
   "cell_type": "markdown",
   "id": "02a4c50b",
   "metadata": {},
   "source": [
    "**Performance measure**"
   ]
  },
  {
   "cell_type": "markdown",
   "id": "6843dc1a",
   "metadata": {},
   "source": [
    "Let us assume that dirt is in quants. If the location is dirty there is one quant of dirt. The vacuum cleaner sucks in one quant of dirt. Let our performance measure be cleaness of the enviroment. How we will measure this? In each time step we will calculate the number of clean spots. If all spots are clean we say cleanes is 1, if only one spot is clean cleaness is 0.5, and if both spots are dirty the cleaness is 0. "
   ]
  },
  {
   "cell_type": "markdown",
   "id": "3ac7d231",
   "metadata": {},
   "source": [
    "*Initial condition of the locations*"
   ]
  },
  {
   "cell_type": "code",
   "execution_count": 3,
   "id": "070089eb",
   "metadata": {},
   "outputs": [],
   "source": [
    "spots={}\n",
    "spots[\"A\"]=\"clean\"\n",
    "spots[\"B\"]=\"clean\""
   ]
  },
  {
   "cell_type": "markdown",
   "id": "727b9f06",
   "metadata": {},
   "source": [
    "*Initial position of vacuum cleaner agent*"
   ]
  },
  {
   "cell_type": "code",
   "execution_count": 4,
   "id": "9ba46e2c",
   "metadata": {},
   "outputs": [],
   "source": [
    "vc_position=\"A\""
   ]
  },
  {
   "cell_type": "markdown",
   "id": "ae55bd19",
   "metadata": {},
   "source": [
    "*Simulation of agents interaction with enviroment*"
   ]
  },
  {
   "cell_type": "code",
   "execution_count": 5,
   "id": "1af27e16",
   "metadata": {},
   "outputs": [],
   "source": [
    "positions=[]\n",
    "performance=[]\n",
    "timesteps=[]\n",
    "positions.append(vc_position)\n",
    "performance.append(1)\n",
    "environment=[]\n",
    "environment.append(spots)\n",
    "timesteps.append(0)\n",
    "for i in range(1,10):\n",
    "    timesteps.append(i)\n",
    "    #update the state of environment\n",
    "    spots=ENV(spots)\n",
    "    x={}\n",
    "    x[\"A\"]=spots[\"A\"]\n",
    "    x[\"B\"]=spots[\"B\"]\n",
    "    environment.append(x)\n",
    "    #vacuum cleaner sensing and action\n",
    "    vc_position,spots=VC(vc_position,spots)\n",
    "    positions.append(vc_position)\n",
    "    if spots[\"A\"]==\"clean\":\n",
    "        if spots[\"B\"]==\"clean\": \n",
    "            performance.append(1)\n",
    "        else:\n",
    "            performance.append(0.5)\n",
    "    else:\n",
    "        if spots[\"B\"]==\"clean\": \n",
    "            performance.append(0.5)\n",
    "        else:\n",
    "            performance.append(0)"
   ]
  },
  {
   "cell_type": "markdown",
   "id": "a0572833",
   "metadata": {},
   "source": [
    "**Visualisation of enviroment, agents position and performance**"
   ]
  },
  {
   "cell_type": "markdown",
   "id": "a5d50067",
   "metadata": {},
   "source": [
    "*Visualisation of enviroment*"
   ]
  },
  {
   "cell_type": "code",
   "execution_count": 6,
   "id": "f7ca2d0f",
   "metadata": {},
   "outputs": [],
   "source": [
    "import numpy as np\n",
    "DR=np.zeros((2,10))\n",
    "for i in range(0,len(environment)):\n",
    "    if environment[i][\"A\"]==\"clean\":\n",
    "        DR[0][i]=0\n",
    "    else:\n",
    "        DR[0][i]=1\n",
    "    if environment[i][\"B\"]==\"clean\":\n",
    "        DR[1][i]=0\n",
    "    else:\n",
    "        DR[1][i]=1"
   ]
  },
  {
   "cell_type": "markdown",
   "id": "70c1f5c0",
   "metadata": {},
   "source": [
    "*Visualisation of the agents position*"
   ]
  },
  {
   "cell_type": "code",
   "execution_count": 7,
   "id": "b32f0197",
   "metadata": {},
   "outputs": [],
   "source": [
    "POS=np.zeros((2,10))\n",
    "for i in range(0,len(positions)):\n",
    "    if positions[i]==\"A\":\n",
    "        POS[0][i]=1\n",
    "    else:\n",
    "        POS[1][i]=1"
   ]
  },
  {
   "cell_type": "code",
   "execution_count": 8,
   "id": "a64fd893",
   "metadata": {},
   "outputs": [
    {
     "data": {
      "image/png": "[encoded data removed]",
      "text/plain": [
       "<Figure size 1500x500 with 3 Axes>"
      ]
     },
     "metadata": {},
     "output_type": "display_data"
    }
   ],
   "source": [
    "import matplotlib.pyplot as plt\n",
    "plt.figure(figsize=(15,5))\n",
    "plt.subplot(1, 3, 1)\n",
    "plt.yticks([0,1],[\"A\",\"B\"])\n",
    "plt.xlabel(\"time\")\n",
    "plt.ylabel(\"spots\")\n",
    "plt.imshow(DR,  aspect='auto', cmap=\"binary\")\n",
    "plt.subplot(1, 3, 2)\n",
    "plt.yticks([0,1],[\"A\",\"B\"])\n",
    "plt.xlabel(\"time\")\n",
    "plt.ylabel(\"position\")\n",
    "plt.imshow(POS,  aspect='auto', cmap=\"Blues\")\n",
    "plt.subplot(1, 3, 3)\n",
    "plt.ylabel(\"performance\")\n",
    "plt.xlabel(\"time\")\n",
    "\n",
    "plt.plot(timesteps, performance, 'r-')\n",
    "plt.show()"
   ]
  },
  {
   "cell_type": "markdown",
   "id": "bcdc1a75",
   "metadata": {},
   "source": [
    "2.3 Is our agent rational? Can its performance be better?"
   ]
  },
  {
   "cell_type": "markdown",
   "id": "f89dc0c9",
   "metadata": {},
   "source": [
    "**Solution**"
   ]
  },
  {
   "cell_type": "markdown",
   "id": "70c7b1c0",
   "metadata": {},
   "source": [
    "Having in mind that the clean location becomes dirty in the next time step, and our agent cant be on two spots at the same, the maximal cleaness is 0.5, i.e., one spot will always be dirty. Our agent is rational."
   ]
  },
  {
   "cell_type": "markdown",
   "id": "445b646f",
   "metadata": {},
   "source": [
    "2.4 Let us change the way the enviroment is updates. Let make our enviroment stochastic. If the location is clean, it will become dirty with 50% of chance. What is the performance of our agent then?"
   ]
  },
  {
   "cell_type": "markdown",
   "id": "1a7f1676",
   "metadata": {},
   "source": [
    "**Solution**"
   ]
  },
  {
   "cell_type": "markdown",
   "id": "ab1bbd77",
   "metadata": {},
   "source": [
    "*Enviroment function with random update*"
   ]
  },
  {
   "cell_type": "code",
   "execution_count": 9,
   "id": "aa50de6c",
   "metadata": {},
   "outputs": [],
   "source": [
    "import random as rn\n",
    "def ENV_r(env,p):\n",
    "    for se in env.keys():\n",
    "        if env[se]==\"clean\":\n",
    "            ksi=rn.uniform(0,1)\n",
    "            if ksi<p:\n",
    "                env[se]=\"dirty\"\n",
    "    return env"
   ]
  },
  {
   "cell_type": "markdown",
   "id": "c4322510",
   "metadata": {},
   "source": [
    "*Initialization*"
   ]
  },
  {
   "cell_type": "code",
   "execution_count": 10,
   "id": "aa4628a3",
   "metadata": {},
   "outputs": [],
   "source": [
    "spots={}\n",
    "spots[\"A\"]=\"clean\"\n",
    "spots[\"B\"]=\"clean\"\n",
    "ksi=rn.uniform(0,1)\n",
    "if ksi<=0.5:\n",
    "    vc_position=\"A\"\n",
    "else:\n",
    "    vc_position=\"B\""
   ]
  },
  {
   "cell_type": "markdown",
   "id": "31eae230",
   "metadata": {},
   "source": [
    "*Simulation*"
   ]
  },
  {
   "cell_type": "code",
   "execution_count": 11,
   "id": "4f57ea2f",
   "metadata": {},
   "outputs": [],
   "source": [
    "positions=[]\n",
    "performance=[]\n",
    "timesteps=[]\n",
    "positions.append(vc_position)\n",
    "performance.append(1)\n",
    "environment=[]\n",
    "environment.append(spots)\n",
    "timesteps.append(0)\n",
    "for i in range(1,100):\n",
    "    timesteps.append(i)\n",
    "    #update the state of enviroment\n",
    "    spots=ENV_r(spots,0.1)\n",
    "    x={}\n",
    "    x[\"A\"]=spots[\"A\"]\n",
    "    x[\"B\"]=spots[\"B\"]\n",
    "    environment.append(x)\n",
    "    #vacuum cleaner sensing and action\n",
    "    vc_position,spots=VC(vc_position,spots)\n",
    "    positions.append(vc_position)\n",
    "    if spots[\"A\"]==\"clean\":\n",
    "        if spots[\"B\"]==\"clean\": \n",
    "            performance.append(1)\n",
    "        else:\n",
    "            performance.append(0.5)\n",
    "    else:\n",
    "        if spots[\"B\"]==\"clean\": \n",
    "            performance.append(0.5)\n",
    "        else:\n",
    "            performance.append(0)"
   ]
  },
  {
   "cell_type": "markdown",
   "id": "fe030089",
   "metadata": {},
   "source": [
    "*Visualisation of enviroment*"
   ]
  },
  {
   "cell_type": "code",
   "execution_count": 12,
   "id": "33c8a2f9",
   "metadata": {},
   "outputs": [],
   "source": [
    "import numpy as np\n",
    "DR=np.zeros((2,100))\n",
    "for i in range(0,len(environment)):\n",
    "    if environment[i][\"A\"]==\"clean\":\n",
    "        DR[0][i]=0\n",
    "    else:\n",
    "        DR[0][i]=1\n",
    "    if environment[i][\"B\"]==\"clean\":\n",
    "        DR[1][i]=0\n",
    "    else:\n",
    "        DR[1][i]=1"
   ]
  },
  {
   "cell_type": "markdown",
   "id": "be0b32e7",
   "metadata": {},
   "source": [
    "*Visualisation of the agents position*"
   ]
  },
  {
   "cell_type": "code",
   "execution_count": 13,
   "id": "88d287f6",
   "metadata": {},
   "outputs": [],
   "source": [
    "POS=np.zeros((2,100))\n",
    "for i in range(0,len(positions)):\n",
    "    if positions[i]==\"A\":\n",
    "        POS[0][i]=1\n",
    "    else:\n",
    "        POS[1][i]=1"
   ]
  },
  {
   "cell_type": "code",
   "execution_count": 14,
   "id": "b358bf4f",
   "metadata": {},
   "outputs": [
    {
     "data": {
      "image/png": "[encoded data removed]",
      "text/plain": [
       "<Figure size 1500x500 with 3 Axes>"
      ]
     },
     "metadata": {},
     "output_type": "display_data"
    }
   ],
   "source": [
    "import matplotlib.pyplot as plt\n",
    "plt.figure(figsize=(15,5))\n",
    "plt.subplot(1, 3, 1)\n",
    "plt.yticks([0,1],[\"A\",\"B\"])\n",
    "plt.xlabel(\"time\")\n",
    "plt.ylabel(\"spots\")\n",
    "plt.imshow(DR,  aspect='auto', cmap=\"binary\")\n",
    "plt.subplot(1, 3, 2)\n",
    "plt.yticks([0,1],[\"A\",\"B\"])\n",
    "plt.xlabel(\"time\")\n",
    "plt.ylabel(\"position\")\n",
    "plt.imshow(POS,  aspect='auto', cmap=\"Blues\")\n",
    "plt.subplot(1, 3, 3)\n",
    "plt.ylabel(\"performance\")\n",
    "plt.xlabel(\"time\")\n",
    "\n",
    "plt.plot(timesteps, performance, 'r-')\n",
    "plt.show()"
   ]
  },
  {
   "cell_type": "markdown",
   "id": "61fb1e94",
   "metadata": {},
   "source": [
    "2.5. Let us assume that our vacuum cleaner is malfunction. Twenty-five percent of the time, the Suck action fails to clean the floor if it is dirty and deposits dirt onto the floor if the floor is clean. How the performance changes?"
   ]
  },
  {
   "cell_type": "markdown",
   "id": "7da13451",
   "metadata": {},
   "source": [
    "*New agent program*"
   ]
  },
  {
   "cell_type": "code",
   "execution_count": 15,
   "id": "67a4f7b8",
   "metadata": {},
   "outputs": [],
   "source": [
    "def VC_m1(position, env):\n",
    "    if env[position]==\"clean\":\n",
    "        ksi=rn.uniform(0,1)\n",
    "        if ksi<=0.25:\n",
    "            env[position]=\"dirty\"\n",
    "        else:\n",
    "            if position==\"A\":\n",
    "                position=\"B\"\n",
    "            else:\n",
    "                position=\"A\"\n",
    "    else:\n",
    "        ksi=rn.uniform(0,1)\n",
    "        if ksi<=0.75:\n",
    "            env[position]=\"clean\"\n",
    "    return position, env"
   ]
  },
  {
   "cell_type": "markdown",
   "id": "2b6bd933",
   "metadata": {},
   "source": [
    "*To make things more simple, we will not update the enviroment.*"
   ]
  },
  {
   "cell_type": "markdown",
   "id": "c84ff473",
   "metadata": {},
   "source": [
    "*Initialization*"
   ]
  },
  {
   "cell_type": "code",
   "execution_count": 16,
   "id": "7fab003f",
   "metadata": {},
   "outputs": [],
   "source": [
    "spots={}\n",
    "spots[\"A\"]=\"dirty\"\n",
    "spots[\"B\"]=\"dirty\"\n",
    "ksi=rn.uniform(0,1)\n",
    "if ksi<=0.5:\n",
    "    vc_position=\"A\"\n",
    "else:\n",
    "    vc_position=\"B\""
   ]
  },
  {
   "cell_type": "markdown",
   "id": "e3729050",
   "metadata": {},
   "source": [
    "*Simulation*"
   ]
  },
  {
   "cell_type": "code",
   "execution_count": 17,
   "id": "2d65c86d",
   "metadata": {},
   "outputs": [],
   "source": [
    "positions=[]\n",
    "performance=[]\n",
    "timesteps=[]\n",
    "positions.append(vc_position)\n",
    "performance.append(1)\n",
    "environment=[]\n",
    "environment.append(spots)\n",
    "timesteps.append(0)\n",
    "for i in range(1,100):\n",
    "    timesteps.append(i)\n",
    "    #vacuum cleaner sensing and action\n",
    "    vc_position,spots=VC_m1(vc_position,spots)\n",
    "    positions.append(vc_position)\n",
    "    if spots[\"A\"]==\"clean\":\n",
    "        if spots[\"B\"]==\"clean\": \n",
    "            performance.append(1)\n",
    "        else:\n",
    "            performance.append(0.5)\n",
    "    else:\n",
    "        if spots[\"B\"]==\"clean\": \n",
    "            performance.append(0.5)\n",
    "        else:\n",
    "            performance.append(0)\n",
    "    x={}\n",
    "    x[\"A\"]=spots[\"A\"]\n",
    "    x[\"B\"]=spots[\"B\"]\n",
    "    environment.append(x)"
   ]
  },
  {
   "cell_type": "markdown",
   "id": "7d54d438",
   "metadata": {},
   "source": [
    "*Visualisation of enviroment*"
   ]
  },
  {
   "cell_type": "code",
   "execution_count": 18,
   "id": "34a9723a",
   "metadata": {},
   "outputs": [],
   "source": [
    "import numpy as np\n",
    "DR=np.zeros((2,100))\n",
    "for i in range(0,len(environment)):\n",
    "    if environment[i][\"A\"]==\"clean\":\n",
    "        DR[0][i]=0\n",
    "    else:\n",
    "        DR[0][i]=1\n",
    "    if environment[i][\"B\"]==\"clean\":\n",
    "        DR[1][i]=0\n",
    "    else:\n",
    "        DR[1][i]=1"
   ]
  },
  {
   "cell_type": "markdown",
   "id": "ebb906d1",
   "metadata": {},
   "source": [
    "*Visualisation of the agents position*"
   ]
  },
  {
   "cell_type": "code",
   "execution_count": 19,
   "id": "3b5d5366",
   "metadata": {},
   "outputs": [],
   "source": [
    "POS=np.zeros((2,100))\n",
    "for i in range(0,len(positions)):\n",
    "    if positions[i]==\"A\":\n",
    "        POS[0][i]=1\n",
    "    else:\n",
    "        POS[1][i]=1"
   ]
  },
  {
   "cell_type": "code",
   "execution_count": 20,
   "id": "0519be72",
   "metadata": {},
   "outputs": [
    {
     "data": {
      "image/png": "[encoded data removed]",
      "text/plain": [
       "<Figure size 1500x500 with 3 Axes>"
      ]
     },
     "metadata": {},
     "output_type": "display_data"
    }
   ],
   "source": [
    "import matplotlib.pyplot as plt\n",
    "plt.figure(figsize=(15,5))\n",
    "plt.subplot(1, 3, 1)\n",
    "plt.yticks([0,1],[\"A\",\"B\"])\n",
    "plt.xlabel(\"time\")\n",
    "plt.ylabel(\"spots\")\n",
    "plt.imshow(DR,  aspect='auto', cmap=\"binary\")\n",
    "plt.subplot(1, 3, 2)\n",
    "plt.yticks([0,1],[\"A\",\"B\"])\n",
    "plt.xlabel(\"time\")\n",
    "plt.ylabel(\"position\")\n",
    "plt.imshow(POS,  aspect='auto', cmap=\"Blues\")\n",
    "plt.subplot(1, 3, 3)\n",
    "plt.ylabel(\"performance\")\n",
    "plt.xlabel(\"time\")\n",
    "\n",
    "plt.plot(timesteps, performance, 'r-')\n",
    "plt.show()"
   ]
  },
  {
   "cell_type": "markdown",
   "id": "aed66fb8",
   "metadata": {},
   "source": [
    "Clearly, the performance of malfunctioning vacuum agents is worse. The failure of Suck action doesn’t cause any problem at all as long as we replace the reflex agent’s ‘Suck’ action by ‘Suck until clean’. "
   ]
  },
  {
   "cell_type": "markdown",
   "id": "bae4988a",
   "metadata": {},
   "source": [
    "2.6. Let us assume that our vacuum cleaner is malfunction, where its dirt sensor is malfunction. Dirt sensor gives the wrong answer 10% of the time. How the performance changes? "
   ]
  },
  {
   "cell_type": "markdown",
   "id": "21470e39",
   "metadata": {},
   "source": [
    "*New agent program*"
   ]
  },
  {
   "cell_type": "code",
   "execution_count": 21,
   "id": "267a58d9",
   "metadata": {},
   "outputs": [],
   "source": [
    "def VC_m2(position, env):\n",
    "    if env[position]==\"clean\":\n",
    "        ksi=rn.uniform(0,1)\n",
    "        if ksi<=0.9:\n",
    "            if position==\"A\":\n",
    "                position=\"B\"\n",
    "            else:\n",
    "                position=\"A\"\n",
    "    else:\n",
    "        ksi=rn.uniform(0,1)\n",
    "        if ksi<=0.9:\n",
    "            env[position]=\"clean\"\n",
    "        else:\n",
    "            if position==\"A\":\n",
    "                position=\"B\"\n",
    "            else:\n",
    "                position=\"A\"\n",
    "    return position, env"
   ]
  },
  {
   "cell_type": "markdown",
   "id": "c3e9514d",
   "metadata": {},
   "source": [
    "*To make things more simple, we will not update the enviroment.*"
   ]
  },
  {
   "cell_type": "markdown",
   "id": "9894a4b6",
   "metadata": {},
   "source": [
    "*Initialization*"
   ]
  },
  {
   "cell_type": "code",
   "execution_count": 22,
   "id": "e20aff54",
   "metadata": {},
   "outputs": [],
   "source": [
    "spots={}\n",
    "spots[\"A\"]=\"dirty\"\n",
    "spots[\"B\"]=\"dirty\"\n",
    "ksi=rn.uniform(0,1)\n",
    "if ksi<=0.5:\n",
    "    vc_position=\"A\"\n",
    "else:\n",
    "    vc_position=\"B\""
   ]
  },
  {
   "cell_type": "markdown",
   "id": "429de8c3",
   "metadata": {},
   "source": [
    "*Simulation*"
   ]
  },
  {
   "cell_type": "code",
   "execution_count": 23,
   "id": "275ab1d1",
   "metadata": {},
   "outputs": [],
   "source": [
    "positions=[]\n",
    "performance=[]\n",
    "timesteps=[]\n",
    "positions.append(vc_position)\n",
    "performance.append(1)\n",
    "environment=[]\n",
    "environment.append(spots)\n",
    "timesteps.append(0)\n",
    "for i in range(1,100):\n",
    "    timesteps.append(i)\n",
    "    #vacuum cleaner sensing and action\n",
    "    vc_position,spots=VC_m2(vc_position,spots)\n",
    "    positions.append(vc_position)\n",
    "    if spots[\"A\"]==\"clean\":\n",
    "        if spots[\"B\"]==\"clean\": \n",
    "            performance.append(1)\n",
    "        else:\n",
    "            performance.append(0.5)\n",
    "    else:\n",
    "        if spots[\"B\"]==\"clean\": \n",
    "            performance.append(0.5)\n",
    "        else:\n",
    "            performance.append(0)\n",
    "    x={}\n",
    "    x[\"A\"]=spots[\"A\"]\n",
    "    x[\"B\"]=spots[\"B\"]\n",
    "    environment.append(x)"
   ]
  },
  {
   "cell_type": "markdown",
   "id": "d04d7291",
   "metadata": {},
   "source": [
    "*Visualisation of enviroment*"
   ]
  },
  {
   "cell_type": "code",
   "execution_count": 24,
   "id": "e37fca93",
   "metadata": {},
   "outputs": [],
   "source": [
    "import numpy as np\n",
    "DR=np.zeros((2,100))\n",
    "for i in range(0,len(environment)):\n",
    "    if environment[i][\"A\"]==\"clean\":\n",
    "        DR[0][i]=0\n",
    "    else:\n",
    "        DR[0][i]=1\n",
    "    if environment[i][\"B\"]==\"clean\":\n",
    "        DR[1][i]=0\n",
    "    else:\n",
    "        DR[1][i]=1"
   ]
  },
  {
   "cell_type": "markdown",
   "id": "29e42f71",
   "metadata": {},
   "source": [
    "*Visualisation of the agents position*"
   ]
  },
  {
   "cell_type": "code",
   "execution_count": 25,
   "id": "7ec16bde",
   "metadata": {},
   "outputs": [],
   "source": [
    "POS=np.zeros((2,100))\n",
    "for i in range(0,len(positions)):\n",
    "    if positions[i]==\"A\":\n",
    "        POS[0][i]=1\n",
    "    else:\n",
    "        POS[1][i]=1"
   ]
  },
  {
   "cell_type": "code",
   "execution_count": 26,
   "id": "7633b76c",
   "metadata": {},
   "outputs": [
    {
     "data": {
      "image/png": "[encoded data removed]",
      "text/plain": [
       "<Figure size 1500x500 with 3 Axes>"
      ]
     },
     "metadata": {},
     "output_type": "display_data"
    }
   ],
   "source": [
    "import matplotlib.pyplot as plt\n",
    "plt.figure(figsize=(15,5))\n",
    "plt.subplot(1, 3, 1)\n",
    "plt.yticks([0,1],[\"A\",\"B\"])\n",
    "plt.xlabel(\"time\")\n",
    "plt.ylabel(\"spots\")\n",
    "plt.imshow(DR,  aspect='auto', cmap=\"binary\")\n",
    "plt.subplot(1, 3, 2)\n",
    "plt.yticks([0,1],[\"A\",\"B\"])\n",
    "plt.xlabel(\"time\")\n",
    "plt.ylabel(\"position\")\n",
    "plt.imshow(POS,  aspect='auto', cmap=\"Blues\")\n",
    "plt.subplot(1, 3, 3)\n",
    "plt.ylabel(\"performance\")\n",
    "plt.xlabel(\"time\")\n",
    "\n",
    "plt.plot(timesteps, performance, 'r-')\n",
    "plt.show()"
   ]
  },
  {
   "cell_type": "markdown",
   "id": "4a7c9c43",
   "metadata": {},
   "source": [
    "### 3. Model-based reflex agents: Model-baced vacuum cleaner"
   ]
  },
  {
   "cell_type": "markdown",
   "id": "26f546f4",
   "metadata": {},
   "source": [
    "3.1. Let us have a situation where we have a location that if clean becomes dirty with a chance of 50%. What is the \n",
    "performance of good functioning simple reflex agent vacuum cleaner?"
   ]
  },
  {
   "cell_type": "markdown",
   "id": "61a26e07",
   "metadata": {},
   "source": [
    "**Solution**"
   ]
  },
  {
   "cell_type": "markdown",
   "id": "ba557b3b",
   "metadata": {},
   "source": [
    "*Initialization*"
   ]
  },
  {
   "cell_type": "code",
   "execution_count": 27,
   "id": "93332fbb",
   "metadata": {},
   "outputs": [],
   "source": [
    "spots={}\n",
    "spots[\"A\"]=\"clean\"\n",
    "spots[\"B\"]=\"clean\"\n",
    "ksi=rn.uniform(0,1)\n",
    "if ksi<=0.5:\n",
    "    vc_position=\"A\"\n",
    "else:\n",
    "    vc_position=\"B\""
   ]
  },
  {
   "cell_type": "markdown",
   "id": "df631228",
   "metadata": {},
   "source": [
    "*Simulation*"
   ]
  },
  {
   "cell_type": "code",
   "execution_count": 28,
   "id": "ab67b27b",
   "metadata": {},
   "outputs": [],
   "source": [
    "positions=[]\n",
    "performance=[]\n",
    "timesteps=[]\n",
    "positions.append(vc_position)\n",
    "performance.append(1)\n",
    "environment=[]\n",
    "environment.append(spots)\n",
    "timesteps.append(0)\n",
    "for i in range(1,100):\n",
    "    timesteps.append(i)\n",
    "    #update the state of enviroment\n",
    "    spots=ENV_r(spots,0.5)\n",
    "    x={}\n",
    "    x[\"A\"]=spots[\"A\"]\n",
    "    x[\"B\"]=spots[\"B\"]\n",
    "    environment.append(x)\n",
    "    #vacuum cleaner sensing and action\n",
    "    vc_position,spots=VC(vc_position,spots)\n",
    "    positions.append(vc_position)\n",
    "    if spots[\"A\"]==\"clean\":\n",
    "        if spots[\"B\"]==\"clean\": \n",
    "            performance.append(1)\n",
    "        else:\n",
    "            performance.append(0.5)\n",
    "    else:\n",
    "        if spots[\"B\"]==\"clean\": \n",
    "            performance.append(0.5)\n",
    "        else:\n",
    "            performance.append(0)"
   ]
  },
  {
   "cell_type": "markdown",
   "id": "3009056f",
   "metadata": {},
   "source": [
    "*Visualisation of enviroment*"
   ]
  },
  {
   "cell_type": "code",
   "execution_count": 29,
   "id": "fa448ced",
   "metadata": {},
   "outputs": [],
   "source": [
    "import numpy as np\n",
    "DR=np.zeros((2,100))\n",
    "for i in range(0,len(environment)):\n",
    "    if environment[i][\"A\"]==\"clean\":\n",
    "        DR[0][i]=0\n",
    "    else:\n",
    "        DR[0][i]=1\n",
    "    if environment[i][\"B\"]==\"clean\":\n",
    "        DR[1][i]=0\n",
    "    else:\n",
    "        DR[1][i]=1"
   ]
  },
  {
   "cell_type": "markdown",
   "id": "96b140ce",
   "metadata": {},
   "source": [
    "*Visualisation of the agents position*"
   ]
  },
  {
   "cell_type": "code",
   "execution_count": 30,
   "id": "eea8a906",
   "metadata": {},
   "outputs": [],
   "source": [
    "POS=np.zeros((2,100))\n",
    "for i in range(0,len(positions)):\n",
    "    if positions[i]==\"A\":\n",
    "        POS[0][i]=1\n",
    "    else:\n",
    "        POS[1][i]=1"
   ]
  },
  {
   "cell_type": "code",
   "execution_count": 31,
   "id": "cf836300",
   "metadata": {},
   "outputs": [
    {
     "data": {
      "image/png": "[encoded data removed]",
      "text/plain": [
       "<Figure size 1500x500 with 3 Axes>"
      ]
     },
     "metadata": {},
     "output_type": "display_data"
    }
   ],
   "source": [
    "import matplotlib.pyplot as plt\n",
    "plt.figure(figsize=(15,5))\n",
    "plt.subplot(1, 3, 1)\n",
    "plt.yticks([0,1],[\"A\",\"B\"])\n",
    "plt.xlabel(\"time\")\n",
    "plt.ylabel(\"spots\")\n",
    "plt.imshow(DR,  aspect='auto', cmap=\"binary\")\n",
    "plt.subplot(1, 3, 2)\n",
    "plt.yticks([0,1],[\"A\",\"B\"])\n",
    "plt.xlabel(\"time\")\n",
    "plt.ylabel(\"position\")\n",
    "plt.imshow(POS,  aspect='auto', cmap=\"Blues\")\n",
    "plt.subplot(1, 3, 3)\n",
    "plt.ylabel(\"performance\")\n",
    "plt.xlabel(\"time\")\n",
    "plt.plot(timesteps, performance, 'r-')\n",
    "plt.show()"
   ]
  },
  {
   "cell_type": "markdown",
   "id": "27aa65ee",
   "metadata": {},
   "source": [
    "3.2. Let us create a model-based reflex agent. This agent behaves more or less similar to simple reflex agent, except it has an information about the current state of both locations, and if both of them are clean it dose not move. If we choose the same performance function, what is the performance of this agent if the enviroment is updates in the same way as in 3.1? "
   ]
  },
  {
   "cell_type": "markdown",
   "id": "ff7497fb",
   "metadata": {},
   "source": [
    "*New agent program*"
   ]
  },
  {
   "cell_type": "code",
   "execution_count": 32,
   "id": "a1248383",
   "metadata": {},
   "outputs": [],
   "source": [
    "def VC_MB(position, env):\n",
    "    if env[\"A\"]==\"clean\" and env[\"B\"]==\"clean\":\n",
    "        position=position\n",
    "    else:\n",
    "        if env[position]==\"clean\":\n",
    "            if position==\"A\":\n",
    "                position=\"B\"\n",
    "            else:\n",
    "                position=\"A\"\n",
    "        else:\n",
    "            env[position]=\"clean\"\n",
    "    return position, env"
   ]
  },
  {
   "cell_type": "markdown",
   "id": "bcc9cbf4",
   "metadata": {},
   "source": [
    "*Initialization*"
   ]
  },
  {
   "cell_type": "code",
   "execution_count": 33,
   "id": "1e0cf38a",
   "metadata": {},
   "outputs": [],
   "source": [
    "spots={}\n",
    "spots[\"A\"]=\"dirty\"\n",
    "spots[\"B\"]=\"dirty\"\n",
    "ksi=rn.uniform(0,1)\n",
    "if ksi<=0.5:\n",
    "    vc_position=\"A\"\n",
    "else:\n",
    "    vc_position=\"B\""
   ]
  },
  {
   "cell_type": "markdown",
   "id": "e6265556",
   "metadata": {},
   "source": [
    "*Simulation*"
   ]
  },
  {
   "cell_type": "code",
   "execution_count": 34,
   "id": "bc5793bb",
   "metadata": {},
   "outputs": [],
   "source": [
    "positions=[]\n",
    "performance=[]\n",
    "timesteps=[]\n",
    "positions.append(vc_position)\n",
    "performance.append(1)\n",
    "environment=[]\n",
    "environment.append(spots)\n",
    "timesteps.append(0)\n",
    "for i in range(1,100):\n",
    "    timesteps.append(i)\n",
    "    #update the state of enviroment\n",
    "    spots=ENV_r(spots,0.5)\n",
    "    x={}\n",
    "    x[\"A\"]=spots[\"A\"]\n",
    "    x[\"B\"]=spots[\"B\"]\n",
    "    environment.append(x)\n",
    "    #vacuum cleaner sensing and action\n",
    "    vc_position,spots=VC(vc_position,spots)\n",
    "    positions.append(vc_position)\n",
    "    if spots[\"A\"]==\"clean\":\n",
    "        if spots[\"B\"]==\"clean\": \n",
    "            performance.append(1)\n",
    "        else:\n",
    "            performance.append(0.5)\n",
    "    else:\n",
    "        if spots[\"B\"]==\"clean\": \n",
    "            performance.append(0.5)\n",
    "        else:\n",
    "            performance.append(0)"
   ]
  },
  {
   "cell_type": "markdown",
   "id": "9af167f5",
   "metadata": {},
   "source": [
    "*Visualisation of enviroment*"
   ]
  },
  {
   "cell_type": "code",
   "execution_count": 35,
   "id": "a8e1dd66",
   "metadata": {},
   "outputs": [],
   "source": [
    "import numpy as np\n",
    "DR=np.zeros((2,100))\n",
    "for i in range(0,len(environment)):\n",
    "    if environment[i][\"A\"]==\"clean\":\n",
    "        DR[0][i]=0\n",
    "    else:\n",
    "        DR[0][i]=1\n",
    "    if environment[i][\"B\"]==\"clean\":\n",
    "        DR[1][i]=0\n",
    "    else:\n",
    "        DR[1][i]=1"
   ]
  },
  {
   "cell_type": "markdown",
   "id": "7d1f3312",
   "metadata": {},
   "source": [
    "*Visualisation of the agents position*"
   ]
  },
  {
   "cell_type": "code",
   "execution_count": 36,
   "id": "b6977035",
   "metadata": {},
   "outputs": [],
   "source": [
    "POS=np.zeros((2,100))\n",
    "for i in range(0,len(positions)):\n",
    "    if positions[i]==\"A\":\n",
    "        POS[0][i]=1\n",
    "    else:\n",
    "        POS[1][i]=1"
   ]
  },
  {
   "cell_type": "code",
   "execution_count": 37,
   "id": "52cf8f77",
   "metadata": {},
   "outputs": [
    {
     "data": {
      "image/png": "[encoded data removed]",
      "text/plain": [
       "<Figure size 1500x500 with 3 Axes>"
      ]
     },
     "metadata": {},
     "output_type": "display_data"
    }
   ],
   "source": [
    "import matplotlib.pyplot as plt\n",
    "plt.figure(figsize=(15,5))\n",
    "plt.subplot(1, 3, 1)\n",
    "plt.yticks([0,1],[\"A\",\"B\"])\n",
    "plt.xlabel(\"time\")\n",
    "plt.ylabel(\"spots\")\n",
    "plt.imshow(DR,  aspect='auto', cmap=\"binary\")\n",
    "plt.subplot(1, 3, 2)\n",
    "plt.yticks([0,1],[\"A\",\"B\"])\n",
    "plt.xlabel(\"time\")\n",
    "plt.ylabel(\"position\")\n",
    "plt.imshow(POS,  aspect='auto', cmap=\"Blues\")\n",
    "plt.subplot(1, 3, 3)\n",
    "plt.ylabel(\"performance\")\n",
    "plt.xlabel(\"time\")\n",
    "\n",
    "plt.plot(timesteps, performance, 'r-')\n",
    "plt.show()"
   ]
  },
  {
   "cell_type": "markdown",
   "id": "3c91c74a",
   "metadata": {},
   "source": [
    "We do not see much difference between simple reflex agent and model-based reflex agent"
   ]
  },
  {
   "cell_type": "markdown",
   "id": "6eb87c8d",
   "metadata": {},
   "source": [
    "3.3. Can we define different performance function that will show us that model-based reflex agent has better performance?"
   ]
  },
  {
   "cell_type": "markdown",
   "id": "00e699f4",
   "metadata": {},
   "source": [
    "**Solution**"
   ]
  },
  {
   "cell_type": "markdown",
   "id": "c3f81659",
   "metadata": {},
   "source": [
    "Let us think about other performance measures. Say we want to look at battery consumption. Each time the agent moves or sucks it uses battery. For simplicity, let us assume that each action uses one quant of energy and for now let us assume that our battery has 100 quants of energy. The performance in this case can be the operation time of the agent or how many simulation steps agent remains active until the battery is spent. "
   ]
  },
  {
   "cell_type": "markdown",
   "id": "a9f2e3fa",
   "metadata": {},
   "source": [
    "Let us first change agent program of the simple reflex agent. Now we also need a battery statust of the agent as an information."
   ]
  },
  {
   "cell_type": "code",
   "execution_count": 38,
   "id": "aa4e9553",
   "metadata": {},
   "outputs": [],
   "source": [
    "def VC1(position, env, bat):\n",
    "    if env[position]==\"clean\":\n",
    "        if position==\"A\":\n",
    "            position=\"B\"\n",
    "            bat=bat-1\n",
    "        else:\n",
    "            position=\"A\"\n",
    "            bat=bat-1\n",
    "    else:\n",
    "        env[position]=\"clean\"\n",
    "        bat=bat-1\n",
    "    return position, env, bat"
   ]
  },
  {
   "cell_type": "markdown",
   "id": "4e47f90a",
   "metadata": {},
   "source": [
    "*Initialization*"
   ]
  },
  {
   "cell_type": "code",
   "execution_count": 39,
   "id": "f2f31b3f",
   "metadata": {},
   "outputs": [],
   "source": [
    "spots={}\n",
    "spots[\"A\"]=\"dirty\"\n",
    "spots[\"B\"]=\"dirty\"\n",
    "ksi=rn.uniform(0,1)\n",
    "if ksi<=0.5:\n",
    "    vc_position=\"A\"\n",
    "else:\n",
    "    vc_position=\"B\""
   ]
  },
  {
   "cell_type": "markdown",
   "id": "85cfb266",
   "metadata": {},
   "source": [
    "*Simulation*"
   ]
  },
  {
   "cell_type": "code",
   "execution_count": 40,
   "id": "2dac07d0",
   "metadata": {},
   "outputs": [],
   "source": [
    "positions=[]\n",
    "battery=100\n",
    "timesteps=[]\n",
    "positions.append(vc_position)\n",
    "environment=[]\n",
    "environment.append(spots)\n",
    "timesteps.append(0)\n",
    "performance=[]\n",
    "performance.append(battery)\n",
    "i=1\n",
    "while battery!=0:\n",
    "    timesteps.append(i)\n",
    "    #vacuum cleaner sensing and action\n",
    "    spots=ENV_r(spots,0.1)\n",
    "    x={}\n",
    "    x[\"A\"]=spots[\"A\"]\n",
    "    x[\"B\"]=spots[\"B\"]\n",
    "    environment.append(x)\n",
    "    #vacuum cleaner sensing and action\n",
    "    vc_position,spots, battery=VC1(vc_position,spots,battery)\n",
    "    positions.append(vc_position)\n",
    "    performance.append(battery)\n",
    "    i+=1"
   ]
  },
  {
   "cell_type": "markdown",
   "id": "dea5d21e",
   "metadata": {},
   "source": [
    "*Visualisation of enviroment*"
   ]
  },
  {
   "cell_type": "code",
   "execution_count": 41,
   "id": "761da9ef",
   "metadata": {},
   "outputs": [],
   "source": [
    "import numpy as np\n",
    "DR=np.zeros((2,101))\n",
    "for i in range(0,len(environment)):\n",
    "    if environment[i][\"A\"]==\"clean\":\n",
    "        DR[0][i]=0\n",
    "    else:\n",
    "        DR[0][i]=1\n",
    "    if environment[i][\"B\"]==\"clean\":\n",
    "        DR[1][i]=0\n",
    "    else:\n",
    "        DR[1][i]=1"
   ]
  },
  {
   "cell_type": "markdown",
   "id": "d8802a3b",
   "metadata": {},
   "source": [
    "*Visualisation of the agents position*"
   ]
  },
  {
   "cell_type": "code",
   "execution_count": 42,
   "id": "b480b202",
   "metadata": {},
   "outputs": [],
   "source": [
    "POS=np.zeros((2,101))\n",
    "for i in range(0,len(positions)):\n",
    "    if positions[i]==\"A\":\n",
    "        POS[0][i]=1\n",
    "    else:\n",
    "        POS[1][i]=1"
   ]
  },
  {
   "cell_type": "code",
   "execution_count": 43,
   "id": "6b8c30ad",
   "metadata": {},
   "outputs": [
    {
     "data": {
      "image/png": "[encoded data removed]",
      "text/plain": [
       "<Figure size 1500x500 with 3 Axes>"
      ]
     },
     "metadata": {},
     "output_type": "display_data"
    }
   ],
   "source": [
    "import matplotlib.pyplot as plt\n",
    "plt.figure(figsize=(15,5))\n",
    "plt.subplot(1, 3, 1)\n",
    "plt.yticks([0,1],[\"A\",\"B\"])\n",
    "plt.xlabel(\"time\")\n",
    "plt.ylabel(\"spots\")\n",
    "plt.imshow(DR,  aspect='auto', cmap=\"binary\")\n",
    "plt.subplot(1, 3, 2)\n",
    "plt.yticks([0,1],[\"A\",\"B\"])\n",
    "plt.xlabel(\"time\")\n",
    "plt.ylabel(\"position\")\n",
    "plt.imshow(POS,  aspect='auto', cmap=\"Blues\")\n",
    "plt.subplot(1, 3, 3)\n",
    "plt.ylabel(\"performance\")\n",
    "plt.xlabel(\"time\")\n",
    "plt.plot(timesteps, performance, 'r-')\n",
    "plt.show()"
   ]
  },
  {
   "cell_type": "markdown",
   "id": "114a5c64",
   "metadata": {},
   "source": [
    "Simple reflex agent in each time step either moves or sucks. By defolt it will spend the battery after 100 steps, regardless of enviroment evolution. "
   ]
  },
  {
   "cell_type": "code",
   "execution_count": 44,
   "id": "26381299",
   "metadata": {},
   "outputs": [],
   "source": [
    "def VC_MB1(position, env, bat):\n",
    "    if env[\"A\"]==\"clean\" and env[\"B\"]==\"clean\":\n",
    "        position=position\n",
    "    else:\n",
    "        if env[position]==\"clean\":\n",
    "            if position==\"A\":\n",
    "                position=\"B\"\n",
    "                bat=bat-1\n",
    "            else:\n",
    "                position=\"A\"\n",
    "                bat=bat-1\n",
    "        else:\n",
    "            env[position]=\"clean\"\n",
    "            bat=bat-1\n",
    "    return position, env, bat"
   ]
  },
  {
   "cell_type": "markdown",
   "id": "08194110",
   "metadata": {},
   "source": [
    "*Initialization*"
   ]
  },
  {
   "cell_type": "code",
   "execution_count": 45,
   "id": "73d9dae2",
   "metadata": {},
   "outputs": [],
   "source": [
    "spots={}\n",
    "spots[\"A\"]=\"dirty\"\n",
    "spots[\"B\"]=\"dirty\"\n",
    "ksi=rn.uniform(0,1)\n",
    "if ksi<=0.5:\n",
    "    vc_position=\"A\"\n",
    "else:\n",
    "    vc_position=\"B\""
   ]
  },
  {
   "cell_type": "markdown",
   "id": "378d6b3a",
   "metadata": {},
   "source": [
    "*Simulation*"
   ]
  },
  {
   "cell_type": "code",
   "execution_count": 46,
   "id": "3f802d41",
   "metadata": {},
   "outputs": [
    {
     "name": "stdout",
     "output_type": "stream",
     "text": [
      "294\n"
     ]
    }
   ],
   "source": [
    "positions=[]\n",
    "battery=100\n",
    "timesteps=[]\n",
    "positions.append(vc_position)\n",
    "performance.append(1)\n",
    "environment=[]\n",
    "environment.append(spots)\n",
    "timesteps.append(0)\n",
    "performance=[]\n",
    "performance.append(battery)\n",
    "i=1\n",
    "while battery!=0:\n",
    "    timesteps.append(i)\n",
    "    #vacuum cleaner sensing and action\n",
    "    spots=ENV_r(spots,0.1)\n",
    "    x={}\n",
    "    x[\"A\"]=spots[\"A\"]\n",
    "    x[\"B\"]=spots[\"B\"]\n",
    "    environment.append(x)\n",
    "    #vacuum cleaner sensing and action\n",
    "    vc_position,spots, battery=VC_MB1(vc_position,spots,battery)\n",
    "    positions.append(vc_position)\n",
    "    performance.append(battery)\n",
    "    i+=1\n",
    "print(i)"
   ]
  },
  {
   "cell_type": "markdown",
   "id": "77b51c3b",
   "metadata": {},
   "source": [
    "*Visualisation of enviroment*"
   ]
  },
  {
   "cell_type": "code",
   "execution_count": 47,
   "id": "7d165458",
   "metadata": {},
   "outputs": [],
   "source": [
    "import numpy as np\n",
    "DR=np.zeros((2,i+1))\n",
    "for i in range(0,len(environment)):\n",
    "    if environment[i][\"A\"]==\"clean\":\n",
    "        DR[0][i]=0\n",
    "    else:\n",
    "        DR[0][i]=1\n",
    "    if environment[i][\"B\"]==\"clean\":\n",
    "        DR[1][i]=0\n",
    "    else:\n",
    "        DR[1][i]=1"
   ]
  },
  {
   "cell_type": "markdown",
   "id": "a5755d63",
   "metadata": {},
   "source": [
    "*Visualisation of the agents position*"
   ]
  },
  {
   "cell_type": "code",
   "execution_count": 48,
   "id": "457aadaa",
   "metadata": {},
   "outputs": [],
   "source": [
    "POS=np.zeros((2,i+1))\n",
    "for i in range(0,len(positions)):\n",
    "    if positions[i]==\"A\":\n",
    "        POS[0][i]=1\n",
    "    else:\n",
    "        POS[1][i]=1"
   ]
  },
  {
   "cell_type": "code",
   "execution_count": 49,
   "id": "d82813a8",
   "metadata": {},
   "outputs": [
    {
     "data": {
      "image/png": "[encoded data removed]",
      "text/plain": [
       "<Figure size 1500x500 with 3 Axes>"
      ]
     },
     "metadata": {},
     "output_type": "display_data"
    }
   ],
   "source": [
    "import matplotlib.pyplot as plt\n",
    "plt.figure(figsize=(15,5))\n",
    "plt.subplot(1, 3, 1)\n",
    "plt.yticks([0,1],[\"A\",\"B\"])\n",
    "plt.xlabel(\"time\")\n",
    "plt.ylabel(\"spots\")\n",
    "plt.imshow(DR,  aspect='auto', cmap=\"binary\")\n",
    "plt.subplot(1, 3, 2)\n",
    "plt.yticks([0,1],[\"A\",\"B\"])\n",
    "plt.xlabel(\"time\")\n",
    "plt.ylabel(\"position\")\n",
    "plt.imshow(POS,  aspect='auto', cmap=\"Blues\")\n",
    "plt.subplot(1, 3, 3)\n",
    "plt.ylabel(\"performance\")\n",
    "plt.xlabel(\"time\")\n",
    "\n",
    "plt.plot(timesteps, performance, 'r-')\n",
    "plt.show()"
   ]
  },
  {
   "cell_type": "markdown",
   "id": "2f77e999",
   "metadata": {},
   "source": [
    "### 4. Schelling's model of segregation - for fun and example of multiagent system"
   ]
  },
  {
   "cell_type": "markdown",
   "id": "83012b93",
   "metadata": {},
   "source": [
    "Go to https://www.netlogoweb.org/launch#https://www.netlogoweb.org/assets/modelslib/Sample%20Models/Earth%20Science/Erosion.nlogo"
   ]
  },
  {
   "cell_type": "markdown",
   "id": "793449c4",
   "metadata": {},
   "source": [
    "Select Sample Model/Social Science/Segregation "
   ]
  },
  {
   "cell_type": "markdown",
   "id": "ece08926",
   "metadata": {},
   "source": [
    "The model is implementation of Schelling's model of segregation https://en.wikipedia.org/wiki/Schelling%27s_model_of_segregation"
   ]
  },
  {
   "cell_type": "markdown",
   "id": "4c3d7824",
   "metadata": {},
   "source": [
    "### 5. Homework"
   ]
  },
  {
   "cell_type": "markdown",
   "id": "c77fb063",
   "metadata": {},
   "source": [
    "Write PEAS for Autonomous Mars rover. Submit your answer in the following form:<br>\n",
    "Performance Measure: your answer<br>\n",
    "Environment: your answer<br>\n",
    "Actuators: your answer <br>\n",
    "Sensors: your answer <br>"
   ]
  },
  {
   "cell_type": "markdown",
   "id": "a90e8709",
   "metadata": {},
   "source": [
    "Submission link: https://forms.gle/NbGfMep8nkCuNeUx5"
   ]
  },
  {
   "cell_type": "markdown",
   "id": "185c1175",
   "metadata": {},
   "source": [
    "**Deadline:** 21 April 2023 6 PM CET"
   ]
  },
  {
   "cell_type": "code",
   "execution_count": null,
   "id": "96b5749f",
   "metadata": {},
   "outputs": [],
   "source": []
  }
 ],
 "metadata": {
  "kernelspec": {
   "display_name": "Python 3 (ipykernel)",
   "language": "python",
   "name": "python3"
  },
  "language_info": {
   "codemirror_mode": {
    "name": "ipython",
    "version": 3
   },
   "file_extension": ".py",
   "mimetype": "text/x-python",
   "name": "python",
   "nbconvert_exporter": "python",
   "pygments_lexer": "ipython3",
   "version": "3.9.13"
  }
 },
 "nbformat": 4,
 "nbformat_minor": 5
}
