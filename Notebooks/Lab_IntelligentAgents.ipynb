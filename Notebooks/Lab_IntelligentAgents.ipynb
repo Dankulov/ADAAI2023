{
 "cells": [
  {
   "cell_type": "markdown",
   "id": "99da522d",
   "metadata": {},
   "source": [
    "## Lession: Intelligent Agents"
   ]
  },
  {
   "cell_type": "markdown",
   "id": "33336b7f",
   "metadata": {},
   "source": [
    "We will cover:\n",
    "1. PEAS for different agents\n",
    "2. Simple reflex agent\n",
    "3. Model-based reflex agent\n",
    "4. NetLogo - multiagents example"
   ]
  },
  {
   "cell_type": "markdown",
   "id": "49fe2b5f",
   "metadata": {},
   "source": [
    "### 1. PEAS excercise"
   ]
  },
  {
   "cell_type": "markdown",
   "id": "b43afb92",
   "metadata": {},
   "source": [
    "For each of the following agents, develop a PEAS description of the task environment:<br>\n",
    "a) Robot soccer player; <br>\n",
    "b) Internet book-shopping agent; <br>\n",
    "c) Part-picking robot; <br>\n",
    "d) Satellite image analysis system. <br> "
   ]
  },
  {
   "cell_type": "markdown",
   "id": "7631f92d",
   "metadata": {},
   "source": [
    "|Task || Performance Measure | Environment | Actuators | Sensors | \n",
    "|---||---|---|---|---|\n",
    "|Robot soccer player|| | | | |\n",
    "|Internet book-shopping agent|| | | | |\n",
    "|Part-picking robot|| | | | |\n",
    "|Satellite image analysis system || | | | |"
   ]
  },
  {
   "cell_type": "markdown",
   "id": "6c08a3ed",
   "metadata": {},
   "source": [
    "### 2. Simple reflex agent: vacuum cleaning agent"
   ]
  },
  {
   "cell_type": "markdown",
   "id": "b7c900f0",
   "metadata": {},
   "source": [
    "2.1 Write PEAS for a simple reflex agent - vacuum cleaner that can only be in spots A and B, and clean these spots. "
   ]
  },
  {
   "cell_type": "markdown",
   "id": "c5807340",
   "metadata": {},
   "source": [
    "|Task || Performance Measure | Environment | Actuators | Sensors | \n",
    "|---||---|---|---|---|"
   ]
  },
  {
   "cell_type": "markdown",
   "id": "a59cae7a",
   "metadata": {},
   "source": [
    "2.2. Agent function of vaccum cleaner: if the location where the agent is is dirty - such, move to neighbouring location if the current location is clean. Write an agent program for this agent function. "
   ]
  },
  {
   "cell_type": "markdown",
   "id": "bcdc1a75",
   "metadata": {},
   "source": [
    "2.3 Is our agent rational? Can its performance be better?"
   ]
  },
  {
   "cell_type": "markdown",
   "id": "445b646f",
   "metadata": {},
   "source": [
    "2.4 Let us change the way the enviroment is updates. Let make our enviroment stochastic. If the location is clean, it will become dirty with 50% of chance. What is the performance of our agent then?"
   ]
  },
  {
   "cell_type": "markdown",
   "id": "61fb1e94",
   "metadata": {},
   "source": [
    "2.5. Let us assume that our vacuum cleaner is malfunction. Twenty-five percent of the time, the Suck action fails to clean the floor if it is dirty and deposits dirt onto the floor if the floor is clean. How the performance changes?"
   ]
  },
  {
   "cell_type": "markdown",
   "id": "bae4988a",
   "metadata": {},
   "source": [
    "2.6. Let us assume that our vacuum cleaner is malfunction, where its dirt sensor is malfunction. Dirt sensor gives the wrong answer 10% of the time. How the performance changes? "
   ]
  },
  {
   "cell_type": "markdown",
   "id": "4a7c9c43",
   "metadata": {},
   "source": [
    "### 3. Model-based reflex agents: Model-baced vacuum cleaner"
   ]
  },
  {
   "cell_type": "markdown",
   "id": "26f546f4",
   "metadata": {},
   "source": [
    "3.1. Let us have a situation where we have a location that if clean becomes dirty with a chance of 50%. What is the \n",
    "performance of good functioning simple reflex agent vacuum cleaner?"
   ]
  },
  {
   "cell_type": "markdown",
   "id": "27aa65ee",
   "metadata": {},
   "source": [
    "3.2. Let us create a model-based reflex agent. This agent behaves more or less similar to simple reflex agent, except it has an information about the current state of both locations, and if both of them are clean it dose not move. If we choose the same performance function, what is the performance of this agent if the enviroment is updates in the same way as in 3.1? "
   ]
  },
  {
   "cell_type": "markdown",
   "id": "6eb87c8d",
   "metadata": {},
   "source": [
    "3.3. Can we define different performance function that will show us that model-based reflex agent has better performance?"
   ]
  },
  {
   "cell_type": "markdown",
   "id": "2f77e999",
   "metadata": {},
   "source": [
    "### 4. Schelling's model of segregation - for fun and example of multiagent system"
   ]
  },
  {
   "cell_type": "markdown",
   "id": "83012b93",
   "metadata": {},
   "source": [
    "Go to https://www.netlogoweb.org/launch#https://www.netlogoweb.org/assets/modelslib/Sample%20Models/Earth%20Science/Erosion.nlogo"
   ]
  },
  {
   "cell_type": "markdown",
   "id": "793449c4",
   "metadata": {},
   "source": [
    "Select Sample Model/Social Science/Segregation "
   ]
  },
  {
   "cell_type": "markdown",
   "id": "ece08926",
   "metadata": {},
   "source": [
    "The model is implementation of Schelling's model of segregation https://en.wikipedia.org/wiki/Schelling%27s_model_of_segregation"
   ]
  },
  {
   "cell_type": "markdown",
   "id": "4c3d7824",
   "metadata": {},
   "source": [
    "### 5. Homework"
   ]
  },
  {
   "cell_type": "markdown",
   "id": "c77fb063",
   "metadata": {},
   "source": [
    "Write PEAS for Autonomous Mars rover. Submit your answer in the following form:<br>\n",
    "Performance Measure: your answer<br>\n",
    "Environment: your answer<br>\n",
    "Actuators: your answer <br>\n",
    "Sensors: your answer <br>"
   ]
  },
  {
   "cell_type": "markdown",
   "id": "a90e8709",
   "metadata": {},
   "source": [
    "Submission link: https://forms.gle/NbGfMep8nkCuNeUx5"
   ]
  },
  {
   "cell_type": "markdown",
   "id": "185c1175",
   "metadata": {},
   "source": [
    "**Deadline:** 21 April 2023 6 PM CET"
   ]
  },
  {
   "cell_type": "code",
   "execution_count": null,
   "id": "96b5749f",
   "metadata": {},
   "outputs": [],
   "source": []
  }
 ],
 "metadata": {
  "kernelspec": {
   "display_name": "Python 3 (ipykernel)",
   "language": "python",
   "name": "python3"
  },
  "language_info": {
   "codemirror_mode": {
    "name": "ipython",
    "version": 3
   },
   "file_extension": ".py",
   "mimetype": "text/x-python",
   "name": "python",
   "nbconvert_exporter": "python",
   "pygments_lexer": "ipython3",
   "version": "3.9.13"
  }
 },
 "nbformat": 4,
 "nbformat_minor": 5
}
